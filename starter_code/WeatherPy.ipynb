{
 "cells": [
  {
   "cell_type": "markdown",
   "metadata": {},
   "source": [
    "# WeatherPy\n",
    "----\n",
    "\n",
    "#### Note\n",
    "* Instructions have been included for each segment. You do not have to follow them exactly, but they are included to help you think through the steps."
   ]
  },
  {
   "cell_type": "code",
   "execution_count": null,
   "metadata": {
    "scrolled": true
   },
   "outputs": [],
   "source": [
    "# Dependencies and Setup\n",
    "import os\n",
    "import matplotlib.pyplot as plt\n",
    "import pandas as pd\n",
    "import numpy as np\n",
    "import requests\n",
    "import time\n",
    "\n",
    "# Import API key\n",
    "from api_keys import api_key\n",
    "\n",
    "# Incorporated citipy to determine city based on latitude and longitude\n",
    "from citipy import citipy\n",
    "\n",
    "# Output File (CSV)\n",
    "output_data_file = \"output_data/cities.csv\"\n",
    "\n",
    "# Range of latitudes and longitudes\n",
    "lat_range = (-90, 90)\n",
    "lng_range = (-180, 180)"
   ]
  },
  {
   "cell_type": "markdown",
   "metadata": {},
   "source": [
    "## Generate Cities List"
   ]
  },
  {
   "cell_type": "code",
   "execution_count": null,
   "metadata": {},
   "outputs": [],
   "source": [
    "# List for holding lat_lngs and cities\n",
    "lat_lngs = []\n",
    "cities = []\n",
    "\n",
    "# Create a set of random lat and lng combinations\n",
    "lats = np.random.uniform(low=-90.000, high=90.000, size=1500)\n",
    "lngs = np.random.uniform(low=-180.000, high=180.000, size=1500)\n",
    "lat_lngs = zip(lats, lngs)\n",
    "\n",
    "# Identify nearest city for each lat, lng combination\n",
    "for lat_lng in lat_lngs:\n",
    "    city = citipy.nearest_city(lat_lng[0], lat_lng[1]).city_name\n",
    "    \n",
    "    # If the city is unique, then add it to a our cities list\n",
    "    if city not in cities:\n",
    "        cities.append(city)\n",
    "\n",
    "# Print the city count to confirm sufficient count\n",
    "len(cities)"
   ]
  },
  {
   "cell_type": "markdown",
   "metadata": {},
   "source": [
    "### Perform API Calls\n",
    "* Perform a weather check on each city using a series of successive API calls.\n",
    "* Include a print log of each city as it'sbeing processed (with the city number and city name).\n"
   ]
  },
  {
   "cell_type": "code",
   "execution_count": null,
   "metadata": {},
   "outputs": [],
   "source": [
    "url = \"http://api.openweathermap.org/data/2.5/weather?q=\"\n",
    "units = \"imperial\"\n",
    "\n",
    "api_cities = []\n",
    "\n",
    "cities_list = []\n",
    "\n",
    "print('Retrieving Data')\n",
    "print('------------------------------')\n",
    "\n",
    "i=1\n",
    "for city in api_cities:\n",
    "    city_url = f'{url}{city}&appid={api_key}&units={units}'\n",
    "    response = requests.get(url).json()\n",
    "    \n",
    "    try:\n",
    "        print(f'collecting {i} of {len(cities)} | {city}')\n",
    "        \n",
    "        # dictionary containing data for each city\n",
    "        city_data = {\n",
    "            'City' : response['name'],\n",
    "            'Cloudiness' : response['clouds']['all'],\n",
    "            'Country' : response['sys']['country'],\n",
    "            'Date' : response['dt'],\n",
    "            'Humidity' : response['main']['humidity'],\n",
    "            'Lat' : response['coord']['lat'],\n",
    "            'Lng' : response['coord']['lon'],\n",
    "            'Max Temp' : response['main']['temp_max'],\n",
    "            'Wind Speed' : response['wind']['speed']\n",
    "        }\n",
    "        \n",
    "        cities_list.append(city_data)\n",
    "        i+=1\n",
    "        \n",
    "        # skip cities not found\n",
    "    except KeyError:\n",
    "        print(\"City not found...\")\n",
    "        i+=1\n",
    "\n",
    "    # wait after each call     \n",
    "    time.sleep(1)\n",
    "    \n",
    "print('-----------------------------')\n",
    "print('Data Retrieval Complete')\n",
    "print('-----------------------------')\n",
    "print(f'Found Cities: {len(cities_list)}')"
   ]
  },
  {
   "cell_type": "markdown",
   "metadata": {},
   "source": [
    "### Convert Raw Data to DataFrame\n",
    "* Export the city data into a .csv.\n",
    "* Display the DataFrame"
   ]
  },
  {
   "cell_type": "code",
   "execution_count": null,
   "metadata": {},
   "outputs": [],
   "source": [
    "# convert list into DataFrame\n",
    "city_data_df = pd.DataFrame(cities_list)\n",
    "\n",
    "# export to csv\n",
    "city_data_df.to_csv(output_data_file)\n",
    "\n",
    "city_data_df.head()"
   ]
  },
  {
   "cell_type": "code",
   "execution_count": null,
   "metadata": {},
   "outputs": [],
   "source": []
  },
  {
   "cell_type": "markdown",
   "metadata": {},
   "source": [
    "### Plotting the Data\n",
    "* Use proper labeling of the plots using plot titles (including date of analysis) and axes labels.\n",
    "* Save the plotted figures as .pngs."
   ]
  },
  {
   "cell_type": "markdown",
   "metadata": {},
   "source": [
    "#### Latitude vs. Temperature Plot"
   ]
  },
  {
   "cell_type": "code",
   "execution_count": null,
   "metadata": {},
   "outputs": [],
   "source": [
    "# create plot\n",
    "fig, ax = plt.subplots()\n",
    "\n",
    "# plot points\n",
    "ax.scatter(city_data_df['Lat'], city_data_df['Max Temp'], edgecolor='k')\n",
    "\n",
    "# set title and x,y labels\n",
    "plt.title('Latitude vs. Temperature')\n",
    "ax.set_xlabel(\"Latitude\")\n",
    "ax.set_ylabel('Max Temperature')\n",
    "\n",
    "plt.grid()\n",
    "plt.show()"
   ]
  },
  {
   "cell_type": "markdown",
   "metadata": {},
   "source": [
    "#### Latitude vs. Humidity Plot"
   ]
  },
  {
   "cell_type": "code",
   "execution_count": null,
   "metadata": {},
   "outputs": [],
   "source": [
    "# create plot\n",
    "fig, ax = plt.subplots()\n",
    "\n",
    "# plot points\n",
    "ax.scatter(city_data_df['Lat'], city_data_df['Humidity'], edgecolor='k')\n",
    "\n",
    "# set title and x, y labels\n",
    "plt.title('City Latitude vs Humidity')\n",
    "ax.set_xlabel('Latitude')\n",
    "ax.set_ylabel('Humidity')\n",
    "\n",
    "plt.grid()\n",
    "\n",
    "plt.show()"
   ]
  },
  {
   "cell_type": "markdown",
   "metadata": {},
   "source": [
    "#### Latitude vs. Cloudiness Plot"
   ]
  },
  {
   "cell_type": "code",
   "execution_count": null,
   "metadata": {},
   "outputs": [],
   "source": [
    "# create figure\n",
    "fig, ax = plt.subplots()\n",
    "\n",
    "# plot points\n",
    "ax.scatter(city_data_df['Lat'], city_data_df['Cloudiness'], edgecolor='k')\n",
    "\n",
    "# set title and x, y labels\n",
    "plt.title('City Latitude vs. Cloudiness')\n",
    "ax.set_xlabel('Latitude')\n",
    "ax.set_ylabel('Cloudiness')\n",
    "\n",
    "plt.grid()\n",
    "\n",
    "plt.show()"
   ]
  },
  {
   "cell_type": "markdown",
   "metadata": {},
   "source": [
    "#### Latitude vs. Wind Speed Plot"
   ]
  },
  {
   "cell_type": "code",
   "execution_count": null,
   "metadata": {},
   "outputs": [],
   "source": [
    "# create figure\n",
    "fig, ax = plt.subplots()\n",
    "\n",
    "# plot points\n",
    "ax.scatter(city_data_df['Lat'], city_data_df['Wind Speed'], edgecolor='k')\n",
    "\n",
    "# set title and x, y labels\n",
    "plt.title('City Latitude vs. Wind Speed')\n",
    "ax.set_xlabel('Latitude')\n",
    "ax.set_ylabel('Wind Speed')\n",
    "\n",
    "plt.grid()\n",
    "\n",
    "plt.show()\n"
   ]
  },
  {
   "cell_type": "markdown",
   "metadata": {},
   "source": [
    "Observations\n",
    "1) Cities closer to the equator tend to have higher temperatures.\n",
    "2) Cities closer to the equator tend to have higher humidity. \n",
    "3) There is no apparent relationship between city latitude and cloudiness. "
   ]
  }
 ],
 "metadata": {
  "anaconda-cloud": {},
  "kernel_info": {
   "name": "python3"
  },
  "kernelspec": {
   "display_name": "Python 3",
   "language": "python",
   "name": "python3"
  },
  "language_info": {
   "codemirror_mode": {
    "name": "ipython",
    "version": 3
   },
   "file_extension": ".py",
   "mimetype": "text/x-python",
   "name": "python",
   "nbconvert_exporter": "python",
   "pygments_lexer": "ipython3",
   "version": "3.6.9"
  },
  "nteract": {
   "version": "0.12.3"
  }
 },
 "nbformat": 4,
 "nbformat_minor": 2
}
